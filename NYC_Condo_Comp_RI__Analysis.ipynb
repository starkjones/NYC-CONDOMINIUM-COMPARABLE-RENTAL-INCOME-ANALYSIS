{
  "nbformat": 4,
  "nbformat_minor": 0,
  "metadata": {
    "colab": {
      "name": "NYC_Condo_Comp_RI_ Analysis.ipynb",
      "provenance": [],
      "collapsed_sections": [],
      "authorship_tag": "ABX9TyM+Zg6cptVcg0aFaGR8o/Uc",
      "include_colab_link": true
    },
    "kernelspec": {
      "name": "python3",
      "display_name": "Python 3"
    },
    "language_info": {
      "name": "python"
    }
  },
  "cells": [
    {
      "cell_type": "markdown",
      "metadata": {
        "id": "view-in-github",
        "colab_type": "text"
      },
      "source": [
        "<a href=\"https://colab.research.google.com/github/starkjones/NYC-CONDOMINIUM-COMPARABLE-RENTAL-INCOME-ANALYSIS/blob/main/NYC_Condo_Comp_RI__Analysis.ipynb\" target=\"_parent\"><img src=\"https://colab.research.google.com/assets/colab-badge.svg\" alt=\"Open In Colab\"/></a>"
      ]
    },
    {
      "cell_type": "markdown",
      "source": [
        "## **NYC CONDOMINIUM COMPARABLE RENTAL INCOME ANALYSIS**\n",
        "\n",
        "Jonathan Jones\n",
        "\n",
        "22.05.05"
      ],
      "metadata": {
        "id": "uAp4XhQ71Cd8"
      }
    },
    {
      "cell_type": "code",
      "source": [
        "import pandas as pd\n",
        "import numpy as np\n",
        "\n",
        "from google.colab import drive\n",
        "drive.mount('/content/drive')"
      ],
      "metadata": {
        "id": "DRoRyZql0_BK"
      },
      "execution_count": null,
      "outputs": []
    },
    {
      "cell_type": "markdown",
      "source": [
        "## **PRIMARY DATASET**"
      ],
      "metadata": {
        "id": "Kr9xm-1VRi0z"
      }
    },
    {
      "cell_type": "markdown",
      "source": [
        ""
      ],
      "metadata": {
        "id": "7gmgoRLSLi2M"
      }
    },
    {
      "cell_type": "code",
      "source": [
        "data = '/content/drive/MyDrive/SI/DOF__Condominium_Comparable_Rental_Income___Manhattan___FY_2009_2010_ML.xlsx'\n",
        "df = pd.read_excel(data)\n",
        "df.head(5)"
      ],
      "metadata": {
        "id": "8rOsHAI41gi_"
      },
      "execution_count": null,
      "outputs": []
    },
    {
      "cell_type": "markdown",
      "source": [
        "## **PRIMARY DATASET**"
      ],
      "metadata": {
        "id": "E5h35MZdRdKN"
      }
    },
    {
      "cell_type": "code",
      "source": [
        "# Shape of data frame:\n",
        "\n",
        "df.shape\n",
        "\n",
        "# 1068 rows \n",
        "# 46 columns"
      ],
      "metadata": {
        "id": "2vM4ZlCL2Htd"
      },
      "execution_count": null,
      "outputs": []
    },
    {
      "cell_type": "code",
      "source": [
        "# # Unadulterated copy for Machine Learning:\n",
        "\n",
        "df_ML = df.copy()"
      ],
      "metadata": {
        "id": "1-Tdu68R2hLp"
      },
      "execution_count": null,
      "outputs": []
    },
    {
      "cell_type": "code",
      "source": [
        "# Changing all column names to lowercase:\n",
        "\n",
        "df.columns = df.columns.str.lower()"
      ],
      "metadata": {
        "id": "4Z5e9qre7z5L"
      },
      "execution_count": null,
      "outputs": []
    },
    {
      "cell_type": "code",
      "source": [
        "# Preliminary check of column names, datatypes and entry quantities:\n",
        "\n",
        "df.info()"
      ],
      "metadata": {
        "id": "bybRXbvQ1sPf"
      },
      "execution_count": null,
      "outputs": []
    },
    {
      "cell_type": "markdown",
      "source": [
        "##**DATA CLEANING & PREPARATION**"
      ],
      "metadata": {
        "id": "I84N5rIH2wYO"
      }
    },
    {
      "cell_type": "code",
      "source": [
        "# Check for duplciated rows:\n",
        "\n",
        "df.duplicated().sum()"
      ],
      "metadata": {
        "id": "eZpq85cv3j0P"
      },
      "execution_count": null,
      "outputs": []
    },
    {
      "cell_type": "code",
      "source": [
        "df.nunique()"
      ],
      "metadata": {
        "id": "PmkXEyeyfXlf"
      },
      "execution_count": null,
      "outputs": []
    },
    {
      "cell_type": "code",
      "source": [
        "# Removal of ineffectual columns:\n",
        "remove = {'borough','manhattan condominium property boro-block-lot', \n",
        "          'comparable rental 2  boro-block-lot','bin', 'bbl',\n",
        "          'manhattan condominium property condo section', \n",
        "          'census tract', ' comparable rental 1 boro-block-lot', 'postcode', 'community board'}\n",
        "df.drop(columns = remove, inplace = True)"
      ],
      "metadata": {
        "id": "NY3Up5edAjWP"
      },
      "execution_count": null,
      "outputs": []
    },
    {
      "cell_type": "code",
      "source": [
        "# Check for missing values:\n",
        "\n",
        "df.isna().sum()"
      ],
      "metadata": {
        "id": "UIFjJTHR2xjW"
      },
      "execution_count": null,
      "outputs": []
    },
    {
      "cell_type": "markdown",
      "source": [
        "Imputation Strategy: \n",
        "  \n",
        "\n",
        "missing 15 / 1068 or 01.40 % of entries\n",
        "missing 23 / 1068 or 02.15 % of entries\n",
        "\n",
        "postcode                                                  15\n",
        "latitude                                                  15\n",
        "longitude                                                 15\n",
        "community board                                           15\n",
        "council district                                          15\n",
        "census tract                                              15\n",
        "bin                                                       23\n",
        "bbl                                                       23\n",
        "nta                                                       15\n",
        "\n",
        "reviews per month: missing 57 / 1068 or 05.33 % of its entries\n",
        "\n",
        "comparable rental 2  boro-block-lot                       57\n",
        "comparable rental 2  address                              57\n",
        "comparable rental 2  neighborhood                         57\n",
        "comparable rental 2  building classification              57\n",
        "comparable rental 2  total units                          57\n",
        "comparable rental 2  year built                           57\n",
        "comparable rental 2  gross sqft                           57\n",
        "comparable rental 2  est. gross income                    57\n",
        "comparable rental 2  gross income per sqft                57\n",
        "comparable rental 2  full market value                    57\n",
        "comparable rental 2  market value per sqft                57\n",
        "comparable rental 2  dist. from coop in miles             57\n"
      ],
      "metadata": {
        "id": "8x3-fLrGH3Qg"
      }
    },
    {
      "cell_type": "code",
      "source": [
        "# import re\n",
        "\n",
        "# column = df['comparable rental 2  gross sqft']\n",
        "\n",
        "# for i in column:\n",
        "#   if i == int:\n",
        "#     'ignore'\n",
        "#   else:\n",
        "#     i.replace({',':'', \"'\":\"\"}, regex = True)\n",
        "#     # re.sub(pattern = '\\w', repl = '', string = i)\n",
        "\n"
      ],
      "metadata": {
        "id": "dhneuMhwOhWf"
      },
      "execution_count": null,
      "outputs": []
    },
    {
      "cell_type": "code",
      "source": [
        "# Fill Values and Lists:\n",
        "lon = df['longitude'].mean()\n",
        "lat = df['latitude'].mean()\n",
        "cd = round(df['council district'].mean(), 1)\n",
        "\n",
        "cr2_tu = df['comparable rental 2  total units'].mean()\n",
        "cr2_yb = df['comparable rental 2  year built'].values[1]\n",
        "cr2_gs = df['comparable rental 2  gross sqft'].mean()\n",
        "cr2_egi = df['comparable rental 2  est. gross income'].mean()\n",
        "cr2_gipsf = df['comparable rental 2  gross income per sqft'].mean()\n",
        "cr2_fmv = df['comparable rental 2  full market value'].mean()\n",
        "cr2_mvpsf = df['comparable rental 2  market value per sqft'].mean()\n",
        "cr2_drc = df['comparable rental 2  dist. from coop in miles'].mean()\n",
        "\n",
        "# Object Imputation:\n",
        "df['nta'].fillna('Missing', inplace =True)\n",
        "df['comparable rental 2  address'].fillna('Missing', inplace =True)\n",
        "df['comparable rental 2  neighborhood'].fillna('Missing', inplace =True)\n",
        "df['comparable rental 2  building classification'].fillna('Missing', inplace =True)\n",
        "\n",
        "# Numeric Imputation:\n",
        "df['latitude'].fillna(lat, inplace =True)\n",
        "df['longitude'].fillna(lon, inplace =True)\n",
        "df['council district'].fillna(cd, inplace =True)\n",
        "\n",
        "df['comparable rental 2  total units'].fillna(cr2_tu, inplace =True)\n",
        "df['comparable rental 2  year built'].fillna(cr2_yb, inplace =True)\n",
        "df['comparable rental 2  gross sqft'].fillna(cr2_gs, inplace =True)\n",
        "df['comparable rental 2  est. gross income'].fillna(cr2_egi, inplace =True)\n",
        "df['comparable rental 2  gross income per sqft'].fillna(cr2_gipsf, inplace =True)\n",
        "df['comparable rental 2  full market value'].fillna(cr2_fmv, inplace =True)\n",
        "df['comparable rental 2  market value per sqft'].fillna(cr2_mvpsf, inplace =True)\n",
        "df['comparable rental 2  dist. from coop in miles'].fillna(cr2_drc, inplace =True)\n",
        "\n",
        "\n",
        "# comparable rental 2  address                              57\n",
        "# comparable rental 2  neighborhood                         57\n",
        "# comparable rental 2  building classification              57\n",
        "# comparable rental 2  total units                          57\n",
        "# comparable rental 2  year built                           57\n",
        "# comparable rental 2  gross sqft                           57\n",
        "# comparable rental 2  est. gross income                    57\n",
        "# comparable rental 2  gross income per sqft                57\n",
        "# comparable rental 2  full market value                    57\n",
        "# comparable rental 2  market value per sqft                57\n",
        "# comparable rental 2  dist. from coop in miles             57"
      ],
      "metadata": {
        "id": "BAOKPlqthWlM"
      },
      "execution_count": null,
      "outputs": []
    },
    {
      "cell_type": "code",
      "source": [
        "# Datatype correction:\n",
        "\n",
        "df['manhattan condominium property gross income per sqft'] = df['manhattan condominium property gross income per sqft'].astype(int)\n",
        "df['manhattan condominium property market value per sqft'] = df['manhattan condominium property market value per sqft'].astype(int)\n",
        "df['comparable rental 1  gross income per sqft'] = df['comparable rental 1  gross income per sqft'].astype(int)\n",
        "df['comparable rental 1  market value per sqft'] = df['comparable rental 1  market value per sqft'].astype(int)\n",
        "df['comparable rental 1  dist. from coop in miles'] = df['comparable rental 1  dist. from coop in miles'].astype(int)\n",
        "df['comparable rental 2  total units'] = df['comparable rental 2  total units'].astype(int)\n",
        "df['council district'] = df['council district'].astype(int)\n",
        "df['comparable rental 2  year built'] = df['comparable rental 2  year built'].astype(int)\n",
        "df['comparable rental 2  gross sqft'] = df['comparable rental 2  gross sqft'].astype(int)\n",
        "df['comparable rental 2  est. gross income'] = df['comparable rental 2  est. gross income'].astype(int)\n",
        "df['comparable rental 2  gross income per sqft'] = df['comparable rental 2  full market value'].astype(int)\n",
        "df['comparable rental 2  full market value'] = df['comparable rental 2  full market value'].astype(int)\n",
        "df['comparable rental 2  market value per sqft'] = df['comparable rental 2  market value per sqft'].astype(int)\n",
        "df['comparable rental 2  dist. from coop in miles'] = df['comparable rental 2  dist. from coop in miles'].astype(int)"
      ],
      "metadata": {
        "id": "kpDuHzfTIDze"
      },
      "execution_count": null,
      "outputs": []
    },
    {
      "cell_type": "code",
      "source": [
        "# Final check for missing values:\n",
        "\n",
        "df.isna().sum()"
      ],
      "metadata": {
        "id": "p5ctaFezcJKX"
      },
      "execution_count": null,
      "outputs": []
    },
    {
      "cell_type": "code",
      "source": [
        "# Checking value names in object columns for inconsistencies:\n",
        "\n",
        "datatypes = df.dtypes\n",
        "object_cols = datatypes[datatypes =='object'].index\n",
        "object_cols\n",
        "\n",
        "for column in object_cols:\n",
        "  print(f'Column Name = {column}')\n",
        "  print('\\n')\n",
        "  print(df[column].value_counts(dropna=False))\n",
        "  print('\\n\\n')"
      ],
      "metadata": {
        "id": "IywV3uHCKQuR"
      },
      "execution_count": null,
      "outputs": []
    },
    {
      "cell_type": "code",
      "source": [
        "# Check for insconsistencies and odd numeric entries:\n",
        "\n",
        "df.describe().round(1)"
      ],
      "metadata": {
        "id": "H4_6cfil4SwY"
      },
      "execution_count": null,
      "outputs": []
    },
    {
      "cell_type": "markdown",
      "source": [
        "##**VISUAL ANALYSIS**"
      ],
      "metadata": {
        "id": "4RvFADxf25nH"
      }
    },
    {
      "cell_type": "code",
      "source": [
        "import matplotlib.pyplot as plt\n",
        "import seaborn as sns\n",
        "\n",
        "# Correlation map to ascertain related features:\n",
        "\n",
        "correlation = df.corr().round(2)\n",
        "c_list = correlation.unstack().sort_values(ascending = False)\n",
        "\n",
        "# for i in enumerate(c_list):\n",
        "#   if i == 1.00:\n",
        "#     'ignore'\n",
        "#   else:\n",
        "#     i == 1\n",
        "#     print(i, column, column)\n",
        "#     print('\\n')\n",
        "\n",
        "c_list.head(40)"
      ],
      "metadata": {
        "id": "Bl9itJtO24rU"
      },
      "execution_count": null,
      "outputs": []
    },
    {
      "cell_type": "code",
      "source": [
        "fig, hm = plt.subplots(nrows=1, ncols =1, figsize=(18,18));\n",
        "hm = sns.heatmap(correlation, cmap='rocket_r', annot=True);\n",
        "hm.set_title('Correlation Heatmap\\n', fontsize= 24);"
      ],
      "metadata": {
        "id": "TWLdDCWzL8hJ"
      },
      "execution_count": null,
      "outputs": []
    },
    {
      "cell_type": "code",
      "source": [
        "# Checking the correlation between each feature and target:\n",
        "\n",
        "correlated_features = df[df.columns[1:]].corr()['manhattan condominium property est. gross income'][:]\n",
        "correlated_features.round(2).sort_values(ascending = False)"
      ],
      "metadata": {
        "id": "myQ96S9wfztc"
      },
      "execution_count": null,
      "outputs": []
    },
    {
      "cell_type": "markdown",
      "source": [
        "## **Features that share a correlation value of 0.5 or better with the target:**\n",
        "\n",
        "1.  manhattan condominium property est. gross income        1.00\n",
        "2.  manhattan condominium property full market value        1.00\n",
        "3.  manhattan condominium property gross sqft               0.96\n",
        "4.  manhattan condominium property total units              0.85\n",
        "5.  comparable rental 2  est. gross income                  0.74\n",
        "6.  comparable rental 2  gross income per sqft              0.73\n",
        "7.  comparable rental 2  full market value                  0.73\n",
        "8.  comparable rental 2  gross sqft                         0.71\n",
        "9.  comparable rental 2  total units                        0.69\n",
        "10. comparable rental 1 full market value                   0.64\n",
        "11. comparable rental 1  est. gross income                  0.64\n",
        "12. comparable rental 1  gross sqft                         0.55\n",
        "13. comparable rental 1  total units                        0.53\n",
        "\n"
      ],
      "metadata": {
        "id": "8joQFYvQhCIb"
      }
    },
    {
      "cell_type": "code",
      "source": [
        "fig, axes = plt.subplots(nrows=1, ncols =1, figsize=(10,10));\n",
        "sns.scatterplot(data =df,x='latitude', y= 'longitude', hue = 'manhattan condominium property gross income per sqft');\n",
        "axes.set_title('Condo Gross Income by Location\\n', color= '#081d58', alpha= .8, fontsize =24);\n",
        "plt.xlabel('\\nLatitude', fontsize = 16);\n",
        "plt.ylabel('Longitude\\n', fontsize = 16);\n",
        "plt.grid('both')\n"
      ],
      "metadata": {
        "id": "zA-nhkOeYLas"
      },
      "execution_count": null,
      "outputs": []
    },
    {
      "cell_type": "code",
      "source": [
        "import plotly.express as px\n",
        "\n",
        "px.scatter_mapbox(df, lat='latitude',lon='longitude',color='manhattan condominium property market value per sqft',\n",
        "                  mapbox_style=\"open-street-map\")\n"
      ],
      "metadata": {
        "id": "9OeP4LvO4AlJ"
      },
      "execution_count": null,
      "outputs": []
    },
    {
      "cell_type": "markdown",
      "source": [
        "## Analysis:\n",
        "\n",
        "A color coded map makes distinctions between areas clear and easy to interpret. The highest market values (represented by warming purple to yellow hues) are concentrated towards the center of the island between mid thirty streets and the mid sixties. Prices appear to decrease linearly as we move further north, away from Central Park's northern bound; Central Park North."
      ],
      "metadata": {
        "id": "hiAb3fR8GBkD"
      }
    },
    {
      "cell_type": "code",
      "source": [
        "fig, axes = plt.subplots(nrows=1, ncols =1, figsize=(14,12));\n",
        "neighbors = df['manhattan condominium property neighborhood'].sort_values(ascending =True)\n",
        "condoloc = sns.barplot(data =df, x= neighbors, y= 'manhattan condominium property gross income per sqft');\n",
        "plt.title('Neighborhood by Gross Income per Square Foot\\n', color= '#081d58', fontsize =24)\n",
        "plt.xlabel('\\nCondominum Neighborhood', fontsize = 16)\n",
        "plt.ylabel('Gross Income per Square Foot\\n', fontsize =16)\n",
        "plt.xticks(rotation= '90');"
      ],
      "metadata": {
        "id": "oHd85xwnLlfW"
      },
      "execution_count": null,
      "outputs": []
    },
    {
      "cell_type": "markdown",
      "source": [
        "## Analysis:\n",
        "\n",
        "The graph above provides a summary of the most and least expensive neighborghoods on the island of Manhattan. We can see that the Midown Central Business District (CBD) is the most expensive and Inwood at the northern most point of the island is the least expensive. "
      ],
      "metadata": {
        "id": "aCoUHqEKE_Bw"
      }
    },
    {
      "cell_type": "code",
      "source": [
        "\n",
        "fig, axes = plt.subplots(nrows = 1, ncols = 3, figsize = (18,8))\n",
        "sns.histplot(df['manhattan condominium property full market value'],ax=axes[0], \n",
        "             bins=10, color=\"#6a51a3\", \n",
        "             legend=True, linestyle='solid', \n",
        "             line_kws={'lw': 2, 'color': 'black'});\n",
        "sns.histplot(df['comparable rental 1 full market value'], ax=axes[1],\n",
        "             bins=10, color=\"#807dba\", \n",
        "             legend=True, linestyle='solid', \n",
        "             line_kws={'lw': 2, 'color': 'black'});\n",
        "sns.histplot(df['comparable rental 2  full market value'], ax=axes[2],\n",
        "             bins=10, color=\"#bcbddc\", \n",
        "             legend=True, linestyle='solid', \n",
        "             line_kws={'lw': 2, 'color': 'black'});\n"
      ],
      "metadata": {
        "id": "fcOOUNdLFKFb"
      },
      "execution_count": null,
      "outputs": []
    },
    {
      "cell_type": "code",
      "source": [
        "\n",
        "fig, axes = plt.subplots(nrows = 1, ncols = 3, figsize = (18,8))\n",
        "sns.histplot(df['manhattan condominium property est. gross income'], ax=axes[0], \n",
        "             bins=10, color=\"#ec7014\", \n",
        "             legend=True, linestyle='solid', \n",
        "             line_kws={'lw': 2, 'color': 'black'});\n",
        "sns.histplot(df['comparable rental 1  est. gross income'], ax=axes[1],\n",
        "             bins=10, color=\"#fe9929\", \n",
        "             legend=True, linestyle='solid', \n",
        "             line_kws={'lw': 2, 'color': 'black'});\n",
        "sns.histplot(df['comparable rental 2  est. gross income'], ax=axes[2],\n",
        "             bins=10, color=\"#fec44f\", \n",
        "             legend=True, linestyle='solid', \n",
        "             line_kws={'lw': 2, 'color': 'black'});"
      ],
      "metadata": {
        "id": "1mgqIfKuroZd"
      },
      "execution_count": null,
      "outputs": []
    },
    {
      "cell_type": "markdown",
      "source": [
        "##**MACHINE LEARNING**"
      ],
      "metadata": {
        "id": "AChrsbXwZoCO"
      }
    },
    {
      "cell_type": "code",
      "source": [
        "# Preliminary check of the unadulterated dataframe copy:\n",
        "\n",
        "df_ML.columns = df_ML.columns.str.lower()\n",
        "\n",
        "df_ML.info()"
      ],
      "metadata": {
        "id": "KDEeiozaZ_9i"
      },
      "execution_count": null,
      "outputs": []
    },
    {
      "cell_type": "code",
      "source": [
        "df_ML.duplicated().sum()"
      ],
      "metadata": {
        "id": "RcN76G1BaPSW"
      },
      "execution_count": null,
      "outputs": []
    },
    {
      "cell_type": "code",
      "source": [
        "# Datatype correction:\n",
        "\n",
        "df_ML['manhattan condominium property gross income per sqft'] = df_ML['manhattan condominium property gross income per sqft'].astype(int)\n",
        "df_ML['manhattan condominium property market value per sqft'] = df_ML['manhattan condominium property market value per sqft'].astype(int)\n",
        "df_ML['comparable rental 1  gross income per sqft'] = df_ML['comparable rental 1  gross income per sqft'].astype(int)\n",
        "df_ML['comparable rental 1  market value per sqft'] = df_ML['comparable rental 1  market value per sqft'].astype(int)\n",
        "df_ML['comparable rental 1  dist. from coop in miles'] = df_ML['comparable rental 1  dist. from coop in miles'].astype(int)\n",
        "# df_ML['comparable rental 2  total units'] = df_ML['comparable rental 2  total units'].astype(int)\n",
        "# df_ML['council district'] = df_ML['council district'].astype(int)\n",
        "# df_ML['comparable rental 2  year built'] = df_ML['comparable rental 2  year built'].astype(int)\n",
        "# df_ML['comparable rental 2  gross sqft'] = df_ML['comparable rental 2  gross sqft'].astype(int)\n",
        "# df_ML['comparable rental 2  est. gross income'] = df_ML['comparable rental 2  est. gross income'].astype(int)\n",
        "# df_ML['comparable rental 2  gross income per sqft'] = df_ML['comparable rental 2  full market value'].astype(int)\n",
        "# df_ML['comparable rental 2  full market value'] = df_ML['comparable rental 2  full market value'].astype(int)\n",
        "# df_ML['comparable rental 2  market value per sqft'] = df_ML['comparable rental 2  market value per sqft'].astype(int)\n",
        "# df_ML['comparable rental 2  dist. from coop in miles'] = df_ML['comparable rental 2  dist. from coop in miles'].astype(int)"
      ],
      "metadata": {
        "id": "ryysKfuGWvZS"
      },
      "execution_count": null,
      "outputs": []
    },
    {
      "cell_type": "code",
      "source": [
        "# Removal of ineffectual columns:\n",
        "remove = {'borough','manhattan condominium property boro-block-lot', \n",
        "          'comparable rental 2  boro-block-lot','bin', 'bbl',\n",
        "          'manhattan condominium property condo section', \n",
        "          'census tract', ' comparable rental 1 boro-block-lot', 'postcode', 'community board'}\n",
        "df_ML.drop(columns = remove, inplace = True)"
      ],
      "metadata": {
        "id": "ePXadht4Yccu"
      },
      "execution_count": null,
      "outputs": []
    },
    {
      "cell_type": "code",
      "source": [
        "df_ML.info()"
      ],
      "metadata": {
        "id": "ROFW28VEYooG"
      },
      "execution_count": null,
      "outputs": []
    },
    {
      "cell_type": "code",
      "source": [
        "from sklearn.model_selection import train_test_split\n",
        "from sklearn.compose import make_column_selector, make_column_transformer\n",
        "from sklearn.preprocessing import StandardScaler, OneHotEncoder\n",
        "from sklearn.impute import SimpleImputer\n",
        "from sklearn.pipeline import make_pipeline\n",
        "from sklearn import set_config\n",
        "set_config(display='diagram')\n",
        "\n",
        "# Validation Split \n",
        "\n",
        "X = df_ML.drop(columns='manhattan condominium property est. gross income')\n",
        "y = df_ML['manhattan condominium property est. gross income']\n",
        "\n",
        "X_train, X_test, y_train, y_test = train_test_split(X, y, random_state = 42)"
      ],
      "metadata": {
        "id": "550ccoKVaTd-"
      },
      "execution_count": null,
      "outputs": []
    },
    {
      "cell_type": "code",
      "source": [
        "from pandas.core.arrays.sparse import dtype\n",
        "# Column separation for Encoding:\n",
        "\n",
        "ord_col = make_column_selector(dtype_include='object')\n",
        "ord_col(X_train)"
      ],
      "metadata": {
        "id": "ZznTM_5AaM0W"
      },
      "execution_count": null,
      "outputs": []
    },
    {
      "cell_type": "markdown",
      "source": [
        "**ENCODING STRATEGY:**\n",
        "\n",
        "**All of the categorical columns for this data set are considered to be nominal type by the Department of Finance as none of their entires are ordered or ranked.**\n",
        "\n",
        "\n",
        "* manhattan condominium property address\n",
        "\n",
        "* nta\n",
        "\n",
        "* manhattan condominium property neighborhood\n",
        "\n",
        "* manhattan condominium property building classification\n",
        "\n",
        "* comparable rental 1 address\n",
        "\n",
        "* comparable rental 1  neighborhood\n",
        "\n",
        "* comparable rental 1  building classification\n",
        "\n",
        "* comparable rental 2  address\n",
        "\n",
        "* comparable rental 2  neighborhood\n",
        "\n",
        "* comparable rental 2  building classification\n"
      ],
      "metadata": {
        "id": "LZzHihoCamV9"
      }
    },
    {
      "cell_type": "code",
      "source": [
        "# Scalars and One Hot Encoding:\n",
        "scaler = StandardScaler()\n",
        "\n",
        "# OHE:\n",
        "OHE = OneHotEncoder(handle_unknown= 'ignore', sparse = False)"
      ],
      "metadata": {
        "id": "qX94at88aXhb"
      },
      "execution_count": null,
      "outputs": []
    },
    {
      "cell_type": "markdown",
      "source": [
        "**IMPUTATION**"
      ],
      "metadata": {
        "id": "tRSftxLCdpN6"
      }
    },
    {
      "cell_type": "code",
      "source": [
        "# Imputation Strategies: \n",
        "frequent_imputer = SimpleImputer(strategy='most_frequent')\n",
        "mean_imputer = SimpleImputer(strategy = 'mean')"
      ],
      "metadata": {
        "id": "euQFyomBdoTe"
      },
      "execution_count": null,
      "outputs": []
    },
    {
      "cell_type": "code",
      "source": [
        "# Column / Feature separation:\n",
        "nominal_columns = ['manhattan condominium property address',\n",
        " 'nta',\n",
        " 'manhattan condominium property neighborhood',\n",
        " 'manhattan condominium property building classification',\n",
        " 'comparable rental 1 address',\n",
        " 'comparable rental 1  neighborhood',\n",
        " 'comparable rental 1  building classification',\n",
        " 'comparable rental 2  address',\n",
        " 'comparable rental 2  neighborhood',\n",
        " 'comparable rental 2  building classification']\n",
        "numeric_columns = make_column_selector(dtype_include = 'number')"
      ],
      "metadata": {
        "id": "_4XwdssEeRya"
      },
      "execution_count": null,
      "outputs": []
    },
    {
      "cell_type": "code",
      "source": [
        "# Creating pipelines:\n",
        "nominal_pipe = make_pipeline(frequent_imputer, OHE)\n",
        "numeric_pipe = make_pipeline(mean_imputer, scaler)\n",
        "\n",
        "# Creating Tuples:\n",
        "nominal_tuple = (nominal_pipe, nominal_columns)\n",
        "numeric_tuple = (numeric_pipe, numeric_columns)"
      ],
      "metadata": {
        "id": "1GJ-m82lenqa"
      },
      "execution_count": null,
      "outputs": []
    },
    {
      "cell_type": "code",
      "source": [
        "# Column Transfromer:\n",
        "preprocessor = make_column_transformer(nominal_tuple, numeric_tuple, remainder = 'passthrough')\n",
        "\n",
        "# Fit:\n",
        "\n",
        "preprocessor.fit(X_train, y_train)\n",
        "\n",
        "# Transform Data:\n",
        "\n",
        "X_train = preprocessor.transform(X_train)\n",
        "X_test = preprocessor.transform(X_test)"
      ],
      "metadata": {
        "id": "m77WAc8De2Od"
      },
      "execution_count": null,
      "outputs": []
    },
    {
      "cell_type": "markdown",
      "source": [
        "## **MODELING**"
      ],
      "metadata": {
        "id": "s0S68slve9qd"
      }
    },
    {
      "cell_type": "markdown",
      "source": [
        "Our target, Manhattan Condominium Property est. Gross Income, is not limited to a finite number of predetermined classes, therefore this is a regression problem. "
      ],
      "metadata": {
        "id": "jaKKz5exfcga"
      }
    },
    {
      "cell_type": "code",
      "source": [
        "# Import libraries for linear regression models:\n",
        "\n",
        "import numpy as np\n",
        "from sklearn.linear_model import LinearRegression\n",
        "from sklearn.metrics import mean_squared_error, mean_absolute_error, r2_score\n",
        "from sklearn.metrics import mean_absolute_error\n",
        "from sklearn.metrics import mean_squared_error\n",
        "from sklearn.dummy import DummyRegressor\n",
        "from sklearn.datasets import make_regression\n",
        "from sklearn.metrics import r2_score\n",
        "from sklearn.tree import DecisionTreeRegressor\n",
        "from sklearn.tree import plot_tree\n",
        "from sklearn import set_config\n",
        "set_config(display='diagram')\n"
      ],
      "metadata": {
        "id": "JKNfJ_hKfb6g"
      },
      "execution_count": null,
      "outputs": []
    },
    {
      "cell_type": "code",
      "source": [
        "# Constructing a function that prints various test metrics when called:\n",
        "# Adapted from Josh Johnson:\n",
        "\n",
        "def model_metrics(y_true, y_pred):\n",
        "  \"\"\"yields / prints MAE, MSE, RMSE and R2 from target prediction\"\"\"\n",
        "  \n",
        "  MAE = mean_absolute_error(y_true, y_pred)\n",
        "  MSE = mean_squared_error(y_true, y_pred)\n",
        "  RMSE = np.sqrt(MSE)\n",
        "  R2 = r2_score(y_true, y_pred)\n",
        "\n",
        "  print(f'SCORES:\\n \\nMAE: {MAE:,.2f} \\nMSE: {MSE:,.2f} \\nRMSE: {RMSE:,.2f} \\nR2: {R2:.2f}\\n')"
      ],
      "metadata": {
        "id": "dI5bKDBFgDzy"
      },
      "execution_count": null,
      "outputs": []
    },
    {
      "cell_type": "code",
      "source": [
        "# Custom function to plot predicitons and evaluate the model:\n",
        "\n",
        "def plot_r2(X, y, y_pred):\n",
        "  # True Labels\n",
        "  plt.scatter(X, y, label = 'True Values')\n",
        "\n",
        "  # plot predicted labels\n",
        "  plt.scatter(X, y_pred, label = 'Predicted Values')\n",
        "  plt.legend()\n",
        "  plt.xlabel('X')\n",
        "  plt.ylabel('y')\n",
        "  plt.show()\n",
        "\n",
        "  # print R2 score\n",
        "\n",
        "  print('\\nR2 Score', r2_score(y, y_pred))"
      ],
      "metadata": {
        "id": "Z37DnJGRS33Z"
      },
      "execution_count": null,
      "outputs": []
    },
    {
      "cell_type": "markdown",
      "source": [
        "## **BASELINE REGRESSION MODEL**"
      ],
      "metadata": {
        "id": "y-liTUiXit1F"
      }
    },
    {
      "cell_type": "code",
      "source": [
        "# Baseline Dummy Regressor or Baseline Model with mean strategy shall serve as a reference for our models' performance:\n",
        "\n",
        "DR = DummyRegressor(strategy='mean')\n",
        "\n",
        "# Model fitting:\n",
        "\n",
        "DR.fit(X_train, y_train)\n",
        "\n",
        "# Training prediction arrays: \n",
        "\n",
        "dum_train_prediction = DR.predict(X_train)\n",
        "dum_test_prediction = DR.predict(X_test)\n",
        "\n",
        "# Evaluation of Baseline Model: \n",
        "\n",
        "DR_train_score = model_metrics(y_train, dum_train_prediction)\n",
        "DR_test_score = model_metrics(y_test, dum_test_prediction)"
      ],
      "metadata": {
        "id": "kpsSE-GVgKdO"
      },
      "execution_count": null,
      "outputs": []
    },
    {
      "cell_type": "markdown",
      "source": [
        "## **DECISION TREE MODEL**"
      ],
      "metadata": {
        "id": "ZqoKgZd3eWQH"
      }
    },
    {
      "cell_type": "code",
      "source": [
        "# Instantiate Decision Tree Model with default hyperparameters:\n",
        "\n",
        "DT = DecisionTreeRegressor(random_state = 42)\n",
        "\n",
        "# Model fit:\n",
        "\n",
        "DT.fit(X_train, y_train)\n",
        "\n",
        "# Training prediction arrays: \n",
        "\n",
        "DT_train_pred = DT.predict(X_train)\n",
        "DT_test_pred = DT.predict(X_test)\n",
        "\n",
        "\n",
        "# Evaluation of Default Decision Tree Model: \n",
        "\n",
        "DT_train_score = model_metrics( y_train, DT_train_pred)\n",
        "DT_test_score = model_metrics(y_test, DT_test_pred)"
      ],
      "metadata": {
        "id": "04RHdW-dmz9C"
      },
      "execution_count": null,
      "outputs": []
    },
    {
      "cell_type": "code",
      "source": [
        "# A look at tunable hyperparameters: \n",
        "\n",
        "DT.get_params()"
      ],
      "metadata": {
        "id": "26l9r2_Oavb7"
      },
      "execution_count": null,
      "outputs": []
    },
    {
      "cell_type": "markdown",
      "source": [
        "####**Decision Tree Analysis:**\n",
        "\n",
        "The default decision tree exhibits high variance. We can test a range of max depths to see which value produces the highest test score and smallest errors. \n"
      ],
      "metadata": {
        "id": "QzBbuK-dcJ9e"
      }
    },
    {
      "cell_type": "markdown",
      "source": [
        "## **DECISION TREE MODEL 2**"
      ],
      "metadata": {
        "id": "zZcZ2jIwqUGl"
      }
    },
    {
      "cell_type": "markdown",
      "source": [
        "For loop to ascertain optimal max depth :"
      ],
      "metadata": {
        "id": "4Alk2x8FkZ9c"
      }
    },
    {
      "cell_type": "code",
      "source": [
        "# Optimal estimators for a Random Forest Model :\n",
        "\n",
        "# Finding the optimal depth\n",
        "\n",
        "depths = range(1, DT.get_depth()+1)\n",
        "DTscores = pd.DataFrame(columns=['Train', 'Test'], index=depths)\n",
        "\n",
        "# Loop over values in depths:\n",
        "\n",
        "for depth in depths:\n",
        "  DTo = DecisionTreeRegressor(max_depth = depth, random_state = 42)\n",
        "  DTo.fit(X_train, y_train)\n",
        "\n",
        "# Prediction Arrays:\n",
        "  DTo_train__prediction = DTo.predict(X_train)\n",
        "  DTo_test__prediction = DTo.predict(X_test)\n",
        "\n",
        "# Model Evaluation:\n",
        "  DTo_R2_train = r2_score(y_train, DTo_train__prediction)\n",
        "  DTo_R2_test = r2_score(y_test, DTo_test__prediction)\n",
        "\n",
        "# Add R2 scores to new Data Frame\n",
        "  DTscores.loc[depth, 'Train'] = DTo_R2_train\n",
        "  DTscores.loc[depth, 'Test'] = DTo_R2_test\n",
        "  DTscores.loc[depth, 'max_depth']= depth\n",
        "  \n",
        "  DTscores"
      ],
      "metadata": {
        "id": "QwavS0SpyMsn"
      },
      "execution_count": null,
      "outputs": []
    },
    {
      "cell_type": "code",
      "source": [
        "# Data frame sorted by test scores from highest to lowest:\n",
        "\n",
        "DTscores.sort_values(by ='Test', ascending = False)"
      ],
      "metadata": {
        "id": "V4RZggMmiqFN"
      },
      "execution_count": null,
      "outputs": []
    },
    {
      "cell_type": "code",
      "source": [
        "import matplotlib.patches as mpatches\n",
        "\n",
        "# Plot to visualize Test score and max depth results:\n",
        "fig, axes = plt.subplots(nrows=1, ncols =1, figsize=(8,8));\n",
        "\n",
        "plt.plot(depths, DTscores['Train'])\n",
        "plt.plot(depths, DTscores['Test'])\n",
        "plt.axvline(x=19, color = 'red');\n",
        "plt.axhline(y=.97, color = 'purple', alpha = .5, ls = 'dashed');\n",
        "plt.title('Max Depth vs R2 Score\\n')\n",
        "plt.xlabel('\\nMax Depth');\n",
        "plt.ylabel('R2 Score\\n');\n",
        "\n",
        "test_color = mpatches.Patch(color='orange', label = 'Test Scores')\n",
        "train_color = mpatches.Patch(color='blue', label = 'Training Scores')\n",
        "\n",
        "plt.legend(loc ='lower center', handles = [train_color, test_color]);"
      ],
      "metadata": {
        "id": "aqGK2Nx0-Nof"
      },
      "execution_count": null,
      "outputs": []
    },
    {
      "cell_type": "code",
      "source": [
        "# Instantiate Decision Tree Model with default hyperparameters:\n",
        "\n",
        "DT2 = DecisionTreeRegressor(max_depth = 19, random_state= 42)\n",
        "\n",
        "# Model fit:\n",
        "\n",
        "DT2.fit(X_train, y_train)\n",
        "\n",
        "# Training prediction arrays: \n",
        "\n",
        "DT2_trainpred = DT2.predict(X_train)\n",
        "DT2_testpred = DT2.predict(X_test)\n",
        "\n",
        "\n",
        "# Evaluation of Default Decision Tree Model: \n",
        "\n",
        "DT2_train_score = model_metrics( y_train, DT2_trainpred)\n",
        "DT2_test_score = model_metrics(y_test, DT2_testpred)"
      ],
      "metadata": {
        "id": "e234moZRmk2h"
      },
      "execution_count": null,
      "outputs": []
    },
    {
      "cell_type": "code",
      "source": [
        "# Plotting the Final Decision Tree, DT2:\n",
        "\n",
        "plt.figure(figsize = (30, 20))\n",
        "plot_tree(DT2);"
      ],
      "metadata": {
        "id": "4NvMXGOzhG09"
      },
      "execution_count": null,
      "outputs": []
    },
    {
      "cell_type": "markdown",
      "source": [
        "#### **Decision Tree 2 Analysis:**\n",
        "\n",
        "Decision Tree 2 Analysis:\n",
        "The final model improved significantly. The Mean Absolute Error decreased from 319,372.25 dollars to 232,283.00 dollars and the R2 value increased from 0.89 to 0.97. The two models are also much closer in fit suggesting that we were able to eliminate some of the variance from the previous iteration. \n",
        "\n"
      ],
      "metadata": {
        "id": "0Nrtbg3wqlJG"
      }
    },
    {
      "cell_type": "markdown",
      "source": [
        "## **RANDOM FOREST MODEL**"
      ],
      "metadata": {
        "id": "HkB8j2Mxdh2u"
      }
    },
    {
      "cell_type": "code",
      "source": [
        "from sklearn.ensemble import RandomForestRegressor\n",
        "\n",
        "# Instantiate Random Forest Regressor:\n",
        "RF = RandomForestRegressor()\n",
        "\n",
        "# Fit pipeline on training data:\n",
        "RF.fit(X_train, y_train)\n",
        "\n",
        "# Test predictions\n",
        "RF_train_pred = RF.predict(X_train)\n",
        "RF_test_pred = RF.predict(X_test)\n",
        "\n",
        "# Model Evaluation:\n",
        "RF_train_score = model_metrics(y_train, RF_train_pred)\n",
        "RF_test_score = model_metrics(y_test, RF_test_pred)"
      ],
      "metadata": {
        "id": "lTdoC8LibyJo"
      },
      "execution_count": null,
      "outputs": []
    },
    {
      "cell_type": "code",
      "source": [
        "RF.get_params()"
      ],
      "metadata": {
        "id": "QimzqT27ubjz"
      },
      "execution_count": null,
      "outputs": []
    },
    {
      "cell_type": "markdown",
      "source": [
        "#### **Random Forest Analysis:**\n",
        "\n",
        "Similar to the initial Decision Tree model the default Random Forest model is a bit overfit. I will use a GridSearch parameter grid to find the best max_depth.  \n"
      ],
      "metadata": {
        "id": "Xq3Y9_WusDnV"
      }
    },
    {
      "cell_type": "markdown",
      "source": [
        "## **RANDOM FOREST MODEL (GridSearch)**"
      ],
      "metadata": {
        "id": "n4QklvQrqD-L"
      }
    },
    {
      "cell_type": "code",
      "source": [
        "from sklearn.model_selection import GridSearchCV\n",
        "\n",
        "# Finding the optimal max depth using GridSearch Cross Validation:\n",
        "\n",
        "param_grid = {'max_depth': list(range(1,30, 10))}\n",
        "\n",
        "# Instantiate GridSearch model:\n",
        "\n",
        "RF_grid_search = GridSearchCV(RF, param_grid)\n",
        "\n",
        "# Fit model:\n",
        "RF_grid_search.fit(X_train, y_train)\n",
        "\n",
        "# Find best hyperparameter combination:\n",
        "RF_grid_search.best_params_"
      ],
      "metadata": {
        "id": "gr0PkwM8hXdh"
      },
      "execution_count": null,
      "outputs": []
    },
    {
      "cell_type": "code",
      "source": [
        "# Retrieve the best version of the model:\n",
        "best_model = RF_grid_search.best_estimator_\n",
        "\n",
        "# Refit the model on the entire training set:\n",
        "best_model.fit(X_train, y_train)\n",
        "\n",
        "# Evaluate model on the test set:\n",
        "best_model.score(X_test, y_test)"
      ],
      "metadata": {
        "id": "udE3v-Kj1Y7A"
      },
      "execution_count": null,
      "outputs": []
    },
    {
      "cell_type": "code",
      "source": [
        "from sklearn.ensemble import RandomForestRegressor\n",
        "\n",
        "# Instantiate Random Forest Regressor:\n",
        "RFb = RandomForestRegressor(n_estimators=100)\n",
        "\n",
        "# Fit pipeline on training data:\n",
        "RFb.fit(X_train, y_train)\n",
        "\n",
        "# Test predictions\n",
        "RFb_train_pred = RFb.predict(X_train)\n",
        "RFb_test_pred = RFb.predict(X_test)\n",
        "\n",
        "# Model Evaluation:\n",
        "RFb_train_score = model_metrics(y_train, RFb_train_pred)\n",
        "RFb_test_score = model_metrics(y_test, RFb_test_pred)"
      ],
      "metadata": {
        "id": "niIA1TSwIwMd"
      },
      "execution_count": null,
      "outputs": []
    },
    {
      "cell_type": "markdown",
      "source": [
        "## **XGBOOST MODEL (300 ESTIMATORS)**"
      ],
      "metadata": {
        "id": "3MGqbT1y781B"
      }
    },
    {
      "cell_type": "code",
      "source": [
        "from xgboost import XGBRegressor\n",
        "\n",
        "# Instantiate XGBoost model with 300 estimators or \"weak learner\" models:\n",
        "\n",
        "XGB = XGBRegressor(n_estimators= 300, max_depth = 1)\n",
        "\n",
        "# Fit the model onto training data:\n",
        "XGB.fit(X_train, y_train)\n",
        "\n",
        "# Test predictions:\n",
        "XGB_test_pred = XGB.predict(X_test) \n",
        "# Model Evaluation:\n",
        "XGB_test_score = model_metrics(y_test, XGB_test_pred)"
      ],
      "metadata": {
        "id": "4NNi4BsG6dok"
      },
      "execution_count": null,
      "outputs": []
    },
    {
      "cell_type": "markdown",
      "source": [
        "## **LINEAR REGRESSION MODEL (DEFAULT)**"
      ],
      "metadata": {
        "id": "8wdPj71iaDoi"
      }
    },
    {
      "cell_type": "code",
      "source": [
        "# Instantiate Linear Regression Model with default hyperparameters:\n",
        "\n",
        "LR = LinearRegression()\n",
        "\n",
        "# Creating baseline pipeline:\n",
        "\n",
        "LR.fit(X_train, y_train)\n",
        "\n",
        "# Training prediction arrays: \n",
        "\n",
        "LR_train_pred = LR.predict(X_train)\n",
        "LR_test_pred = LR.predict(X_test)\n",
        "\n",
        "# Evaluation of Baseline Model: \n",
        "\n",
        "LR_train_score = model_metrics(y_train, LR_train_pred)\n",
        "LR_test_score = model_metrics(y_test, LR_test_pred)"
      ],
      "metadata": {
        "id": "DNSON9PKiEEG"
      },
      "execution_count": null,
      "outputs": []
    },
    {
      "cell_type": "markdown",
      "source": [
        "## **NEURAL NETWORK MODELING**"
      ],
      "metadata": {
        "id": "HtoBPJaGzcpJ"
      }
    },
    {
      "cell_type": "code",
      "source": [
        "# Import Libraries:\n",
        "from sklearn.metrics import mean_squared_error, mean_absolute_error, r2_score\n",
        "from tensorflow.keras import metrics\n",
        "from keras.models import Sequential\n",
        "from keras.layers import Dense"
      ],
      "metadata": {
        "id": "iip0OYtBNZxx"
      },
      "execution_count": null,
      "outputs": []
    },
    {
      "cell_type": "code",
      "source": [
        "# Learning history plotting function:\n",
        "\n",
        "def plot_history(history):\n",
        "  \"\"\"Plots the metrics of a model's learning progression or history\"\"\"\n",
        "\n",
        "  metrics = history.history.keys()\n",
        "\n",
        "  for metric in metrics:\n",
        "    if not 'val' in metric:\n",
        "      plt.plot(history.history[f'{metric}'], label = f'{metric}')\n",
        "      if f'val_{metric}' in metrics:\n",
        "        plt.plot(history.history[f'val_{metric}'], label = f'val_{metric}')\n",
        "        plt.xlabel('\\nEpochs')\n",
        "        plt.title(f'{metric}')\n",
        "        plt.show()"
      ],
      "metadata": {
        "id": "2NxiL5J5NR_X"
      },
      "execution_count": null,
      "outputs": []
    },
    {
      "cell_type": "code",
      "source": [
        "# Number of columns:\n",
        "\n",
        "inputshape = X_train.shape[1]\n",
        "inputshape"
      ],
      "metadata": {
        "id": "W0adi36gOwb_"
      },
      "execution_count": null,
      "outputs": []
    },
    {
      "cell_type": "code",
      "source": [
        "# Model instantiation:\n",
        "sm = Sequential()\n",
        "\n",
        "# First hidden layer: \n",
        "sm.add(Dense(1684, activation = 'relu', input_dim = inputshape))\n",
        "\n",
        "# Second:\n",
        "sm.add(Dense(842, activation = 'relu'))\n",
        "\n",
        "# Third:\n",
        "sm.add(Dense(420, activation = 'relu'))\n",
        "\n",
        "# Fourth:\n",
        "sm.add(Dense(210, activation = 'relu'))\n",
        "\n",
        "# Fifth:\n",
        "sm.add(Dense(100, activation = 'relu'))\n",
        "\n",
        "# Sixth:\n",
        "sm.add(Dense(50, activation = 'relu'))\n",
        "\n",
        "# Seventh:\n",
        "sm.add(Dense(25, activation = 'relu'))\n",
        "\n",
        "# Output layer:\n",
        "sm.add(Dense(1, activation = 'linear'))\n",
        "\n",
        "# Network Summary:\n",
        "sm.summary()\n",
        "\n",
        "# Compile model:\n",
        "sm.compile(optimizer= 'adam', loss = 'mse', metrics= 'mae')"
      ],
      "metadata": {
        "id": "3YWFTnr8NGrN"
      },
      "execution_count": null,
      "outputs": []
    },
    {
      "cell_type": "code",
      "source": [
        "# Model fit:\n",
        "\n",
        "history = sm.fit(X_train, y_train, \n",
        "                 validation_data = (X_test, y_test),\n",
        "                 epochs = 100,\n",
        "                 verbose = 0)"
      ],
      "metadata": {
        "id": "IBYgZn3IOfji"
      },
      "execution_count": null,
      "outputs": []
    },
    {
      "cell_type": "code",
      "source": [
        "# Plot history for model 3:\n",
        "\n",
        "plot_history(history)"
      ],
      "metadata": {
        "id": "lANsIUqsxEQV"
      },
      "execution_count": null,
      "outputs": []
    },
    {
      "cell_type": "code",
      "source": [
        "# Model Evaluation:\n",
        "\n",
        "nnpredict = sm.predict(X_test)\n",
        "\n",
        "nn_eval = model_metrics(y_test, nnpredict)"
      ],
      "metadata": {
        "id": "9WNJkYsQMb27"
      },
      "execution_count": null,
      "outputs": []
    },
    {
      "cell_type": "code",
      "source": [
        "from tensorflow.keras.layers import Dropout\n",
        "\n",
        "\n",
        "# Model instantiation:\n",
        "sm2 = Sequential()\n",
        "\n",
        "# First hidden layer: \n",
        "sm2.add(Dense(1684, activation = 'relu', input_dim = inputshape))\n",
        "\n",
        "# Second:\n",
        "sm2.add(Dense(900, activation = 'relu'))\n",
        "\n",
        "# Third:\n",
        "sm2.add(Dense(450, activation = 'relu'))\n",
        "\n",
        "# Fourth:\n",
        "sm2.add(Dense(220, activation = 'relu'))\n",
        "\n",
        "# Fifth:\n",
        "sm2.add(Dense(110, activation = 'relu'))\n",
        "\n",
        "# Sixth:\n",
        "sm2.add(Dense(55, activation = 'relu'))\n",
        "\n",
        "# Seventh:\n",
        "sm2.add(Dense(25, activation = 'relu'))\n",
        "\n",
        "# Eigth:\n",
        "sm2.add(Dense(12, activation = 'relu'))\n",
        "\n",
        "#  Nineth:\n",
        "sm2.add(Dense(6, activation = 'relu'))\n",
        "\n",
        "# Output layer:\n",
        "sm2.add(Dense(1, activation = 'linear'))\n",
        "\n",
        "# Network Summary:\n",
        "sm2.summary()\n",
        "\n",
        "# Compile model:\n",
        "sm2.compile(optimizer= 'adam', loss = 'mse', metrics= 'mae')"
      ],
      "metadata": {
        "id": "Kl_VSit7SQXm"
      },
      "execution_count": null,
      "outputs": []
    },
    {
      "cell_type": "code",
      "source": [
        "# Model 2 fit:\n",
        "\n",
        "history2 = sm2.fit(X_train, y_train, \n",
        "                 validation_data = (X_test, y_test),\n",
        "                 epochs = 250,\n",
        "                 verbose = 0)"
      ],
      "metadata": {
        "id": "A8oWyttkSeWp"
      },
      "execution_count": null,
      "outputs": []
    },
    {
      "cell_type": "code",
      "source": [
        "# Plot history for model 2:\n",
        "\n",
        "plot_history(history2)"
      ],
      "metadata": {
        "id": "xWpwpfNASeWq"
      },
      "execution_count": null,
      "outputs": []
    },
    {
      "cell_type": "code",
      "source": [
        "# Model 2 Evaluation:\n",
        "\n",
        "nn2predict = sm2.predict(X_test)\n",
        "\n",
        "nn2_eval = model_metrics(y_test, nn2predict)"
      ],
      "metadata": {
        "id": "WpiILgoBTchC"
      },
      "execution_count": null,
      "outputs": []
    },
    {
      "cell_type": "code",
      "source": [
        "# Model Evaluation:\n",
        "\n",
        "# Predictions and model evaluation:\n",
        "nn2_test_predicitions = sm.predict(X_test)\n",
        "\n",
        "nn2_test_predictions = nn2_test_predicitions.round().astype(bool)"
      ],
      "metadata": {
        "id": "FwMMik8vOquH"
      },
      "execution_count": null,
      "outputs": []
    },
    {
      "cell_type": "code",
      "source": [
        "# Data Frame of Sequencial test predictions:\n",
        "\n",
        "\n",
        "nn2_pred_df = pd.DataFrame(nn2_test_predicitions, columns= ['Estimated Gross Income'])\n",
        "\n",
        "nn2_pred_df['Test Scores'] = r2_score(y_test, nn2predict)\n",
        "\n",
        "nn2_pred_df['MAE'] = mean_absolute_error(y_test, nn2predict)\n",
        "\n",
        "nn2_pred_df['Index'] = list(range(1,268))\n",
        "\n",
        "nn2_pred_df.head().sort_values(by= 'Estimated Gross Income', ascending = False)"
      ],
      "metadata": {
        "id": "VW2ir1JsC5Vk"
      },
      "execution_count": null,
      "outputs": []
    },
    {
      "cell_type": "code",
      "source": [
        "nn2_pred_df.shape"
      ],
      "metadata": {
        "id": "qoNMTJ8GzMXI"
      },
      "execution_count": null,
      "outputs": []
    }
  ]
}